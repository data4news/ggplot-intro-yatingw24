{
 "cells": [
  {
   "cell_type": "markdown",
   "metadata": {},
   "source": [
    "# Describing the same data with summary statistics"
   ]
  },
  {
   "cell_type": "markdown",
   "metadata": {},
   "source": [
    "### Python and R Setup\n",
    "\n",
    "This setup allows you to use *Python* and *R* in the same notebook.\n",
    "\n",
    "To set up a similar notebook, see quickstart instructions here:\n",
    "\n",
    "https://github.com/dmil/jupyter-quickstart\n",
    "\n"
   ]
  },
  {
   "cell_type": "code",
   "execution_count": 1,
   "metadata": {},
   "outputs": [
    {
     "name": "stderr",
     "output_type": "stream",
     "text": [
      "During startup - Warning messages:\n",
      "1: Setting LC_COLLATE failed, using \"C\" \n",
      "2: Setting LC_TIME failed, using \"C\" \n",
      "3: Setting LC_MESSAGES failed, using \"C\" \n",
      "4: Setting LC_MONETARY failed, using \"C\" \n"
     ]
    }
   ],
   "source": [
    "%load_ext rpy2.ipython\n",
    "%load_ext autoreload\n",
    "%autoreload 2\n",
    "\n",
    "%matplotlib inline  \n",
    "from matplotlib import rcParams\n",
    "rcParams['figure.figsize'] = (16, 100)\n",
    "\n",
    "import warnings\n",
    "from rpy2.rinterface import RRuntimeWarning\n",
    "warnings.filterwarnings(\"ignore\") # Ignore all warnings\n",
    "# warnings.filterwarnings(\"ignore\", category=RRuntimeWarning) # Show some warnings\n",
    "\n",
    "import pandas as pd\n",
    "import numpy as np\n",
    "import matplotlib.pyplot as plt\n",
    "from IPython.display import display, HTML"
   ]
  },
  {
   "cell_type": "code",
   "execution_count": 2,
   "metadata": {},
   "outputs": [
    {
     "data": {
      "application/javascript": [
       "// Disable auto-scrolling\n",
       "IPython.OutputArea.prototype._should_scroll = function(lines) {\n",
       "    return false;\n",
       "}\n"
      ],
      "text/plain": [
       "<IPython.core.display.Javascript object>"
      ]
     },
     "metadata": {},
     "output_type": "display_data"
    }
   ],
   "source": [
    "%%javascript\n",
    "// Disable auto-scrolling\n",
    "IPython.OutputArea.prototype._should_scroll = function(lines) {\n",
    "    return false;\n",
    "}"
   ]
  },
  {
   "cell_type": "markdown",
   "metadata": {},
   "source": [
    "### Import packages in R"
   ]
  },
  {
   "cell_type": "code",
   "execution_count": 31,
   "metadata": {
    "scrolled": true
   },
   "outputs": [
    {
     "name": "stdout",
     "output_type": "stream",
     "text": [
      "--- Please select a CRAN mirror for use in this session ---\n",
      "Secure CRAN mirrors \n",
      "\n",
      " 1: 0-Cloud [https]\n",
      " 2: Australia (Canberra) [https]\n",
      " 3: Australia (Melbourne 1) [https]\n",
      " 4: Australia (Melbourne 2) [https]\n",
      " 5: Austria (Wien 1) [https]\n",
      " 6: Belgium (Brussels) [https]\n",
      " 7: Brazil (PR) [https]\n",
      " 8: Brazil (SP 1) [https]\n",
      " 9: Brazil (SP 2) [https]\n",
      "10: Bulgaria [https]\n",
      "11: Canada (MB) [https]\n",
      "12: Canada (ON 1) [https]\n",
      "13: Canada (ON 2) [https]\n",
      "14: Chile (Santiago) [https]\n",
      "15: China (Beijing 2) [https]\n",
      "16: China (Beijing 3) [https]\n",
      "17: China (Hefei) [https]\n",
      "18: China (Hong Kong) [https]\n",
      "19: China (Jinan) [https]\n",
      "20: China (Lanzhou) [https]\n",
      "21: China (Nanjing) [https]\n",
      "22: China (Shanghai 2) [https]\n",
      "23: China (Shenzhen) [https]\n",
      "24: China (Wuhan) [https]\n",
      "25: Colombia (Cali) [https]\n",
      "26: Costa Rica [https]\n",
      "27: Cyprus [https]\n",
      "28: Czech Republic [https]\n",
      "29: Denmark [https]\n",
      "30: East Asia [https]\n",
      "31: Ecuador (Cuenca) [https]\n",
      "32: France (Lyon 1) [https]\n",
      "33: France (Lyon 2) [https]\n",
      "34: France (Marseille) [https]\n",
      "35: France (Paris 1) [https]\n",
      "36: Germany (Erlangen) [https]\n",
      "37: Germany (Göttingen) [https]\n",
      "38: Germany (Leipzig) [https]\n",
      "39: Germany (Münster) [https]\n",
      "40: Greece [https]\n",
      "41: Iceland [https]\n",
      "42: India (Bengaluru) [https]\n",
      "43: India (Bhubaneswar) [https]\n",
      "44: Indonesia (Banda Aceh) [https]\n",
      "45: Iran (Mashhad) [https]\n",
      "46: Italy (Milano) [https]\n",
      "47: Italy (Padua) [https]\n",
      "48: Japan (Yonezawa) [https]\n",
      "49: Korea (Gyeongsan-si) [https]\n",
      "50: Mexico (Mexico City) [https]\n",
      "51: Mexico (Texcoco) [https]\n",
      "52: Morocco [https]\n",
      "53: Netherlands (Dronten) [https]\n",
      "54: New Zealand [https]\n",
      "55: South Africa (Johannesburg) [https]\n",
      "56: Spain (A Coruña) [https]\n",
      "57: Spain (Madrid) [https]\n",
      "58: Sweden (Umeå) [https]\n",
      "59: Switzerland (Zurich 1) [https]\n",
      "60: Taiwan (Taipei) [https]\n",
      "61: Turkey (Denizli) [https]\n",
      "62: UK (Bristol) [https]\n",
      "63: UK (London 1) [https]\n",
      "64: USA (IA) [https]\n",
      "65: USA (MI) [https]\n",
      "66: USA (MO) [https]\n",
      "67: USA (OH) [https]\n",
      "68: USA (OR) [https]\n",
      "69: USA (PA 1) [https]\n",
      "70: USA (TN) [https]\n",
      "71: USA (UT) [https]\n",
      "72: United Arab Emirates [https]\n",
      "73: Uruguay [https]\n",
      "74: (other mirrors)\n",
      "\n"
     ]
    },
    {
     "name": "stdin",
     "output_type": "stream",
     "text": [
      "Selection:  64\n"
     ]
    },
    {
     "name": "stderr",
     "output_type": "stream",
     "text": [
      "During startup - Warning messages:\n",
      "1: Setting LC_TIME failed, using \"C\" \n",
      "2: Setting LC_MESSAGES failed, using \"C\" \n",
      "3: Setting LC_MONETARY failed, using \"C\" \n",
      "* installing *source* package ‘systemfonts’ ...\n",
      "** package ‘systemfonts’ successfully unpacked and MD5 sums checked\n",
      "** using staged installation\n"
     ]
    },
    {
     "name": "stdout",
     "output_type": "stream",
     "text": [
      "Found pkg-config cflags and libs!\n",
      "Using PKG_CFLAGS=-I/opt/homebrew/opt/freetype/include/freetype2 -I/opt/homebrew/opt/libpng/include/libpng16\n",
      "Using PKG_LIBS=-L/opt/homebrew/opt/freetype/lib -lfreetype -lbz2 -L/opt/homebrew/opt/libpng/lib -lpng16 -L/usr/lib -lz\n"
     ]
    },
    {
     "name": "stderr",
     "output_type": "stream",
     "text": [
      "** libs\n",
      "using C++ compiler: ‘Apple clang version 14.0.0 (clang-1400.0.29.202)’\n",
      "using SDK: ‘MacOSX13.1.sdk’\n"
     ]
    },
    {
     "name": "stdout",
     "output_type": "stream",
     "text": [
      "rm -f systemfonts.so caches.o cpp11.o dev_metrics.o font_matching.o font_local.o font_registry.o ft_cache.o string_shape.o font_metrics.o font_outlines.o font_fallback.o string_metrics.o emoji.o cache_store.o init.o mac/FontManagerMac.o\n",
      "clang++ -std=gnu++17 -I\"/opt/homebrew/Cellar/r/4.4.2_2/lib/R/include\" -DNDEBUG -I/opt/homebrew/opt/freetype/include/freetype2 -I/opt/homebrew/opt/libpng/include/libpng16 -I'/opt/homebrew/lib/R/4.4/site-library/cpp11/include' -I/opt/homebrew/opt/gettext/include -I/opt/homebrew/opt/readline/include -I/opt/homebrew/opt/xz/include -I/opt/homebrew/include    -fPIC  -g -O2   -c caches.cpp -o caches.o\n",
      "clang++ -std=gnu++17 -I\"/opt/homebrew/Cellar/r/4.4.2_2/lib/R/include\" -DNDEBUG -I/opt/homebrew/opt/freetype/include/freetype2 -I/opt/homebrew/opt/libpng/include/libpng16 -I'/opt/homebrew/lib/R/4.4/site-library/cpp11/include' -I/opt/homebrew/opt/gettext/include -I/opt/homebrew/opt/readline/include -I/opt/homebrew/opt/xz/include -I/opt/homebrew/include    -fPIC  -g -O2   -c cpp11.cpp -o cpp11.o\n",
      "clang++ -std=gnu++17 -I\"/opt/homebrew/Cellar/r/4.4.2_2/lib/R/include\" -DNDEBUG -I/opt/homebrew/opt/freetype/include/freetype2 -I/opt/homebrew/opt/libpng/include/libpng16 -I'/opt/homebrew/lib/R/4.4/site-library/cpp11/include' -I/opt/homebrew/opt/gettext/include -I/opt/homebrew/opt/readline/include -I/opt/homebrew/opt/xz/include -I/opt/homebrew/include    -fPIC  -g -O2   -c dev_metrics.cpp -o dev_metrics.o\n",
      "clang++ -std=gnu++17 -I\"/opt/homebrew/Cellar/r/4.4.2_2/lib/R/include\" -DNDEBUG -I/opt/homebrew/opt/freetype/include/freetype2 -I/opt/homebrew/opt/libpng/include/libpng16 -I'/opt/homebrew/lib/R/4.4/site-library/cpp11/include' -I/opt/homebrew/opt/gettext/include -I/opt/homebrew/opt/readline/include -I/opt/homebrew/opt/xz/include -I/opt/homebrew/include    -fPIC  -g -O2   -c font_matching.cpp -o font_matching.o\n",
      "clang++ -std=gnu++17 -I\"/opt/homebrew/Cellar/r/4.4.2_2/lib/R/include\" -DNDEBUG -I/opt/homebrew/opt/freetype/include/freetype2 -I/opt/homebrew/opt/libpng/include/libpng16 -I'/opt/homebrew/lib/R/4.4/site-library/cpp11/include' -I/opt/homebrew/opt/gettext/include -I/opt/homebrew/opt/readline/include -I/opt/homebrew/opt/xz/include -I/opt/homebrew/include    -fPIC  -g -O2   -c font_local.cpp -o font_local.o\n",
      "clang++ -std=gnu++17 -I\"/opt/homebrew/Cellar/r/4.4.2_2/lib/R/include\" -DNDEBUG -I/opt/homebrew/opt/freetype/include/freetype2 -I/opt/homebrew/opt/libpng/include/libpng16 -I'/opt/homebrew/lib/R/4.4/site-library/cpp11/include' -I/opt/homebrew/opt/gettext/include -I/opt/homebrew/opt/readline/include -I/opt/homebrew/opt/xz/include -I/opt/homebrew/include    -fPIC  -g -O2   -c font_registry.cpp -o font_registry.o\n",
      "clang++ -std=gnu++17 -I\"/opt/homebrew/Cellar/r/4.4.2_2/lib/R/include\" -DNDEBUG -I/opt/homebrew/opt/freetype/include/freetype2 -I/opt/homebrew/opt/libpng/include/libpng16 -I'/opt/homebrew/lib/R/4.4/site-library/cpp11/include' -I/opt/homebrew/opt/gettext/include -I/opt/homebrew/opt/readline/include -I/opt/homebrew/opt/xz/include -I/opt/homebrew/include    -fPIC  -g -O2   -c ft_cache.cpp -o ft_cache.o\n",
      "clang++ -std=gnu++17 -I\"/opt/homebrew/Cellar/r/4.4.2_2/lib/R/include\" -DNDEBUG -I/opt/homebrew/opt/freetype/include/freetype2 -I/opt/homebrew/opt/libpng/include/libpng16 -I'/opt/homebrew/lib/R/4.4/site-library/cpp11/include' -I/opt/homebrew/opt/gettext/include -I/opt/homebrew/opt/readline/include -I/opt/homebrew/opt/xz/include -I/opt/homebrew/include    -fPIC  -g -O2   -c string_shape.cpp -o string_shape.o\n",
      "clang++ -std=gnu++17 -I\"/opt/homebrew/Cellar/r/4.4.2_2/lib/R/include\" -DNDEBUG -I/opt/homebrew/opt/freetype/include/freetype2 -I/opt/homebrew/opt/libpng/include/libpng16 -I'/opt/homebrew/lib/R/4.4/site-library/cpp11/include' -I/opt/homebrew/opt/gettext/include -I/opt/homebrew/opt/readline/include -I/opt/homebrew/opt/xz/include -I/opt/homebrew/include    -fPIC  -g -O2   -c font_metrics.cpp -o font_metrics.o\n",
      "clang++ -std=gnu++17 -I\"/opt/homebrew/Cellar/r/4.4.2_2/lib/R/include\" -DNDEBUG -I/opt/homebrew/opt/freetype/include/freetype2 -I/opt/homebrew/opt/libpng/include/libpng16 -I'/opt/homebrew/lib/R/4.4/site-library/cpp11/include' -I/opt/homebrew/opt/gettext/include -I/opt/homebrew/opt/readline/include -I/opt/homebrew/opt/xz/include -I/opt/homebrew/include    -fPIC  -g -O2   -c font_outlines.cpp -o font_outlines.o\n",
      "clang++ -std=gnu++17 -I\"/opt/homebrew/Cellar/r/4.4.2_2/lib/R/include\" -DNDEBUG -I/opt/homebrew/opt/freetype/include/freetype2 -I/opt/homebrew/opt/libpng/include/libpng16 -I'/opt/homebrew/lib/R/4.4/site-library/cpp11/include' -I/opt/homebrew/opt/gettext/include -I/opt/homebrew/opt/readline/include -I/opt/homebrew/opt/xz/include -I/opt/homebrew/include    -fPIC  -g -O2   -c font_fallback.cpp -o font_fallback.o\n",
      "clang++ -std=gnu++17 -I\"/opt/homebrew/Cellar/r/4.4.2_2/lib/R/include\" -DNDEBUG -I/opt/homebrew/opt/freetype/include/freetype2 -I/opt/homebrew/opt/libpng/include/libpng16 -I'/opt/homebrew/lib/R/4.4/site-library/cpp11/include' -I/opt/homebrew/opt/gettext/include -I/opt/homebrew/opt/readline/include -I/opt/homebrew/opt/xz/include -I/opt/homebrew/include    -fPIC  -g -O2   -c string_metrics.cpp -o string_metrics.o\n",
      "clang++ -std=gnu++17 -I\"/opt/homebrew/Cellar/r/4.4.2_2/lib/R/include\" -DNDEBUG -I/opt/homebrew/opt/freetype/include/freetype2 -I/opt/homebrew/opt/libpng/include/libpng16 -I'/opt/homebrew/lib/R/4.4/site-library/cpp11/include' -I/opt/homebrew/opt/gettext/include -I/opt/homebrew/opt/readline/include -I/opt/homebrew/opt/xz/include -I/opt/homebrew/include    -fPIC  -g -O2   -c emoji.cpp -o emoji.o\n",
      "clang++ -std=gnu++17 -I\"/opt/homebrew/Cellar/r/4.4.2_2/lib/R/include\" -DNDEBUG -I/opt/homebrew/opt/freetype/include/freetype2 -I/opt/homebrew/opt/libpng/include/libpng16 -I'/opt/homebrew/lib/R/4.4/site-library/cpp11/include' -I/opt/homebrew/opt/gettext/include -I/opt/homebrew/opt/readline/include -I/opt/homebrew/opt/xz/include -I/opt/homebrew/include    -fPIC  -g -O2   -c cache_store.cpp -o cache_store.o\n",
      "clang++ -std=gnu++17 -I\"/opt/homebrew/Cellar/r/4.4.2_2/lib/R/include\" -DNDEBUG -I/opt/homebrew/opt/freetype/include/freetype2 -I/opt/homebrew/opt/libpng/include/libpng16 -I'/opt/homebrew/lib/R/4.4/site-library/cpp11/include' -I/opt/homebrew/opt/gettext/include -I/opt/homebrew/opt/readline/include -I/opt/homebrew/opt/xz/include -I/opt/homebrew/include    -fPIC  -g -O2   -c init.cpp -o init.o\n",
      "clang++ -I\"/opt/homebrew/Cellar/r/4.4.2_2/lib/R/include\" -DNDEBUG -I/opt/homebrew/opt/freetype/include/freetype2 -I/opt/homebrew/opt/libpng/include/libpng16 -I'/opt/homebrew/lib/R/4.4/site-library/cpp11/include' -I/opt/homebrew/opt/gettext/include -I/opt/homebrew/opt/readline/include -I/opt/homebrew/opt/xz/include -I/opt/homebrew/include   -fobjc-arc -fPIC   -c mac/FontManagerMac.mm -o mac/FontManagerMac.o\n"
     ]
    },
    {
     "name": "stderr",
     "output_type": "stream",
     "text": [
      "In file included from mac/FontManagerMac.mm:5:\n",
      "In file included from mac/../FontDescriptor.h:11:\n",
      "In file included from mac/../utils.h:9:\n",
      "In file included from /opt/homebrew/lib/R/4.4/site-library/cpp11/include/cpp11/protect.hpp:10:\n",
      "/opt/homebrew/lib/R/4.4/site-library/cpp11/include/cpp11/R.hpp:52:1: error: unknown type name 'constexpr'\n",
      "constexpr R_xlen_t operator\"\" _xl(unsigned long long int value) { return value; }\n",
      "^\n",
      "/opt/homebrew/lib/R/4.4/site-library/cpp11/include/cpp11/R.hpp:52:19: error: expected ';' after top level declarator\n",
      "constexpr R_xlen_t operator\"\" _xl(unsigned long long int value) { return value; }\n",
      "                  ^\n",
      "                  ;\n",
      "/opt/homebrew/lib/R/4.4/site-library/cpp11/include/cpp11/R.hpp:59:16: warning: alias declarations are a C++11 extension [-Wc++11-extensions]\n",
      "  using type = T;\n",
      "               ^\n",
      "In file included from mac/FontManagerMac.mm:5:\n",
      "In file included from mac/../FontDescriptor.h:11:\n",
      "In file included from mac/../utils.h:9:\n",
      "/opt/homebrew/lib/R/4.4/site-library/cpp11/include/cpp11/protect.hpp:38:54: warning: rvalue references are a C++11 extension [-Wc++11-extensions]\n",
      "                            decltype(std::declval<Fun&&>()()), SEXP>::value>::type>\n",
      "                                                     ^\n",
      "/opt/homebrew/lib/R/4.4/site-library/cpp11/include/cpp11/protect.hpp:39:24: warning: rvalue references are a C++11 extension [-Wc++11-extensions]\n",
      "SEXP unwind_protect(Fun&& code) {\n",
      "                       ^\n",
      "/opt/homebrew/lib/R/4.4/site-library/cpp11/include/cpp11/protect.hpp:37:34: warning: default template arguments for a function template are a C++11 extension [-Wc++11-extensions]\n",
      "template <typename Fun, typename = typename std::enable_if<std::is_same<\n",
      "                                 ^ ~~~~~~~~~~~~~~~~~~~~~~~~~~~~~~~~~~~~~\n",
      "/opt/homebrew/lib/R/4.4/site-library/cpp11/include/cpp11/protect.hpp:40:24: error: expected expression\n",
      "  static SEXP token = [] {\n",
      "                       ^\n",
      "/opt/homebrew/lib/R/4.4/site-library/cpp11/include/cpp11/protect.hpp:52:8: error: expected expression\n",
      "      [](void* data) -> SEXP {\n",
      "       ^\n",
      "/opt/homebrew/lib/R/4.4/site-library/cpp11/include/cpp11/protect.hpp:52:14: error: expected '(' for function-style cast or type construction\n",
      "      [](void* data) -> SEXP {\n",
      "         ~~~~^\n",
      "/opt/homebrew/lib/R/4.4/site-library/cpp11/include/cpp11/protect.hpp:52:16: error: use of undeclared identifier 'data'\n",
      "      [](void* data) -> SEXP {\n",
      "               ^\n",
      "/opt/homebrew/lib/R/4.4/site-library/cpp11/include/cpp11/protect.hpp:57:8: error: expected expression\n",
      "      [](void* jmpbuf, Rboolean jump) {\n",
      "       ^\n",
      "/opt/homebrew/lib/R/4.4/site-library/cpp11/include/cpp11/protect.hpp:57:14: error: expected '(' for function-style cast or type construction\n",
      "      [](void* jmpbuf, Rboolean jump) {\n",
      "         ~~~~^\n",
      "/opt/homebrew/lib/R/4.4/site-library/cpp11/include/cpp11/protect.hpp:57:24: error: unexpected type name 'Rboolean': expected expression\n",
      "      [](void* jmpbuf, Rboolean jump) {\n",
      "                       ^\n",
      "/opt/homebrew/lib/R/4.4/site-library/cpp11/include/cpp11/protect.hpp:76:54: warning: rvalue references are a C++11 extension [-Wc++11-extensions]\n",
      "                            decltype(std::declval<Fun&&>()()), void>::value>::type>\n",
      "                                                     ^\n",
      "/opt/homebrew/lib/R/4.4/site-library/cpp11/include/cpp11/protect.hpp:77:24: warning: rvalue references are a C++11 extension [-Wc++11-extensions]\n",
      "void unwind_protect(Fun&& code) {\n",
      "                       ^\n",
      "/opt/homebrew/lib/R/4.4/site-library/cpp11/include/cpp11/protect.hpp:75:34: warning: default template arguments for a function template are a C++11 extension [-Wc++11-extensions]\n",
      "template <typename Fun, typename = typename std::enable_if<std::is_same<\n",
      "                                 ^ ~~~~~~~~~~~~~~~~~~~~~~~~~~~~~~~~~~~~~\n",
      "/opt/homebrew/lib/R/4.4/site-library/cpp11/include/cpp11/protect.hpp:78:26: error: expected expression\n",
      "  (void)unwind_protect([&] {\n",
      "                         ^\n",
      "/opt/homebrew/lib/R/4.4/site-library/cpp11/include/cpp11/protect.hpp:84:63: warning: rvalue references are a C++11 extension [-Wc++11-extensions]\n",
      "template <typename Fun, typename R = decltype(std::declval<Fun&&>()())>\n",
      "                                                              ^\n",
      "/opt/homebrew/lib/R/4.4/site-library/cpp11/include/cpp11/protect.hpp:87:19: warning: rvalue references are a C++11 extension [-Wc++11-extensions]\n",
      "unwind_protect(Fun&& code) {\n",
      "                  ^\n",
      "/opt/homebrew/lib/R/4.4/site-library/cpp11/include/cpp11/protect.hpp:84:34: warning: default template arguments for a function template are a C++11 extension [-Wc++11-extensions]\n",
      "template <typename Fun, typename R = decltype(std::declval<Fun&&>()())>\n",
      "                                 ^   ~~~~~~~~~~~~~~~~~~~~~~~~~~~~~~~~~\n",
      "/opt/homebrew/lib/R/4.4/site-library/cpp11/include/cpp11/protect.hpp:89:26: error: expected expression\n",
      "  (void)unwind_protect([&] {\n",
      "                         ^\n",
      "/opt/homebrew/lib/R/4.4/site-library/cpp11/include/cpp11/protect.hpp:98:17: warning: variadic templates are a C++11 extension [-Wc++11-extensions]\n",
      "template <size_t...>\n",
      "                ^\n",
      "/opt/homebrew/lib/R/4.4/site-library/cpp11/include/cpp11/protect.hpp:100:16: warning: alias declarations are a C++11 extension [-Wc++11-extensions]\n",
      "  using type = index_sequence;\n",
      "               ^\n",
      "/opt/homebrew/lib/R/4.4/site-library/cpp11/include/cpp11/protect.hpp:106:22: warning: variadic templates are a C++11 extension [-Wc++11-extensions]\n",
      "template <std::size_t... I, std::size_t J>\n",
      "                     ^\n",
      "/opt/homebrew/lib/R/4.4/site-library/cpp11/include/cpp11/protect.hpp:116:31: warning: variadic templates are a C++11 extension [-Wc++11-extensions]\n",
      "template <typename F, typename... Aref, size_t... I>\n",
      "                              ^\n",
      "/opt/homebrew/lib/R/4.4/site-library/cpp11/include/cpp11/protect.hpp:116:47: warning: variadic templates are a C++11 extension [-Wc++11-extensions]\n",
      "template <typename F, typename... Aref, size_t... I>\n",
      "                                              ^\n",
      "/opt/homebrew/lib/R/4.4/site-library/cpp11/include/cpp11/protect.hpp:117:24: warning: rvalue references are a C++11 extension [-Wc++11-extensions]\n",
      "decltype(std::declval<F&&>()(std::declval<Aref>()...)) apply(\n",
      "                       ^\n",
      "/opt/homebrew/lib/R/4.4/site-library/cpp11/include/cpp11/protect.hpp:118:6: warning: rvalue references are a C++11 extension [-Wc++11-extensions]\n",
      "    F&& f, std::tuple<Aref...>&& a, const index_sequence<I...>&) {\n",
      "     ^\n",
      "/opt/homebrew/lib/R/4.4/site-library/cpp11/include/cpp11/protect.hpp:118:17: error: no template named 'tuple' in namespace 'std'\n",
      "    F&& f, std::tuple<Aref...>&& a, const index_sequence<I...>&) {\n",
      "           ~~~~~^\n",
      "/opt/homebrew/lib/R/4.4/site-library/cpp11/include/cpp11/protect.hpp:118:31: warning: rvalue references are a C++11 extension [-Wc++11-extensions]\n",
      "    F&& f, std::tuple<Aref...>&& a, const index_sequence<I...>&) {\n",
      "                              ^\n",
      "/opt/homebrew/lib/R/4.4/site-library/cpp11/include/cpp11/protect.hpp:122:31: warning: variadic templates are a C++11 extension [-Wc++11-extensions]\n",
      "template <typename F, typename... Aref>\n",
      "                              ^\n",
      "/opt/homebrew/lib/R/4.4/site-library/cpp11/include/cpp11/protect.hpp:123:24: warning: rvalue references are a C++11 extension [-Wc++11-extensions]\n",
      "decltype(std::declval<F&&>()(std::declval<Aref>()...)) apply(F&& f,\n",
      "                       ^\n",
      "/opt/homebrew/lib/R/4.4/site-library/cpp11/include/cpp11/protect.hpp:123:63: warning: rvalue references are a C++11 extension [-Wc++11-extensions]\n",
      "decltype(std::declval<F&&>()(std::declval<Aref>()...)) apply(F&& f,\n",
      "                                                              ^\n",
      "/opt/homebrew/lib/R/4.4/site-library/cpp11/include/cpp11/protect.hpp:124:67: error: no template named 'tuple' in namespace 'std'\n",
      "                                                             std::tuple<Aref...>&& a) {\n",
      "                                                             ~~~~~^\n",
      "/opt/homebrew/lib/R/4.4/site-library/cpp11/include/cpp11/protect.hpp:124:81: warning: rvalue references are a C++11 extension [-Wc++11-extensions]\n",
      "                                                             std::tuple<Aref...>&& a) {\n",
      "                                                                                ^\n",
      "/opt/homebrew/lib/R/4.4/site-library/cpp11/include/cpp11/protect.hpp:125:86: error: expected '(' for function-style cast or type construction\n",
      "  return apply(std::forward<F>(f), std::move(a), make_index_sequence<sizeof...(Aref)>{});\n",
      "                                                 ~~~~~~~~~~~~~~~~~~~~~~~~~~~~~~~~~~~~^\n",
      "/opt/homebrew/lib/R/4.4/site-library/cpp11/include/cpp11/protect.hpp:131:24: warning: rvalue references are a C++11 extension [-Wc++11-extensions]\n",
      "decltype(std::declval<F&&>()()) apply(F&& f, std::tuple<>&&) {\n",
      "                       ^\n",
      "/opt/homebrew/lib/R/4.4/site-library/cpp11/include/cpp11/protect.hpp:131:40: warning: rvalue references are a C++11 extension [-Wc++11-extensions]\n",
      "decltype(std::declval<F&&>()()) apply(F&& f, std::tuple<>&&) {\n",
      "                                       ^\n",
      "/opt/homebrew/lib/R/4.4/site-library/cpp11/include/cpp11/protect.hpp:131:51: error: no template named 'tuple' in namespace 'std'\n",
      "decltype(std::declval<F&&>()()) apply(F&& f, std::tuple<>&&) {\n",
      "                                             ~~~~~^\n",
      "/opt/homebrew/lib/R/4.4/site-library/cpp11/include/cpp11/protect.hpp:131:58: warning: rvalue references are a C++11 extension [-Wc++11-extensions]\n",
      "decltype(std::declval<F&&>()()) apply(F&& f, std::tuple<>&&) {\n",
      "                                                         ^\n",
      "/opt/homebrew/lib/R/4.4/site-library/cpp11/include/cpp11/protect.hpp:135:31: warning: variadic templates are a C++11 extension [-Wc++11-extensions]\n",
      "template <typename F, typename... Aref>\n",
      "                              ^\n",
      "/opt/homebrew/lib/R/4.4/site-library/cpp11/include/cpp11/protect.hpp:137:70: warning: reference qualifiers on functions are a C++11 extension [-Wc++11-extensions]\n",
      "  decltype(std::declval<F*>()(std::declval<Aref>()...)) operator()() && {\n",
      "                                                                     ^\n",
      "/opt/homebrew/lib/R/4.4/site-library/cpp11/include/cpp11/protect.hpp:141:8: error: no template named 'tuple' in namespace 'std'\n",
      "  std::tuple<Aref...> arefs_;\n",
      "  ~~~~~^\n",
      "/opt/homebrew/lib/R/4.4/site-library/cpp11/include/cpp11/protect.hpp:149:23: warning: variadic templates are a C++11 extension [-Wc++11-extensions]\n",
      "    template <typename... A>\n",
      "                      ^\n",
      "/opt/homebrew/lib/R/4.4/site-library/cpp11/include/cpp11/protect.hpp:150:47: warning: rvalue references are a C++11 extension [-Wc++11-extensions]\n",
      "    decltype(std::declval<F*>()(std::declval<A&&>()...)) operator()(A&&... a) const {\n",
      "                                              ^\n",
      "/opt/homebrew/lib/R/4.4/site-library/cpp11/include/cpp11/protect.hpp:150:70: warning: rvalue references are a C++11 extension [-Wc++11-extensions]\n",
      "    decltype(std::declval<F*>()(std::declval<A&&>()...)) operator()(A&&... a) const {\n",
      "                                                                     ^\n",
      "/opt/homebrew/lib/R/4.4/site-library/cpp11/include/cpp11/protect.hpp:164:3: error: unknown type name 'constexpr'\n",
      "  constexpr function<F> operator[](F* raw) const {\n",
      "  ^\n",
      "/opt/homebrew/lib/R/4.4/site-library/cpp11/include/cpp11/protect.hpp:164:13: error: member 'function' declared as a template\n",
      "  constexpr function<F> operator[](F* raw) const {\n",
      "            ^\n",
      "/opt/homebrew/lib/R/4.4/site-library/cpp11/include/cpp11/protect.hpp:164:24: error: expected ';' at end of declaration list\n",
      "  constexpr function<F> operator[](F* raw) const {\n",
      "                       ^\n",
      "                       ;\n",
      "fatal error: too many errors emitted, stopping now [-ferror-limit=]\n",
      "30 warnings and 20 errors generated.\n",
      "make: *** [mac/FontManagerMac.o] Error 1\n",
      "ERROR: compilation failed for package ‘systemfonts’\n",
      "* removing ‘/opt/homebrew/lib/R/4.4/site-library/systemfonts’\n",
      "During startup - Warning messages:\n",
      "1: Setting LC_TIME failed, using \"C\" \n",
      "2: Setting LC_MESSAGES failed, using \"C\" \n",
      "3: Setting LC_MONETARY failed, using \"C\" \n",
      "ERROR: dependency ‘systemfonts’ is not available for package ‘textshaping’\n",
      "* removing ‘/opt/homebrew/lib/R/4.4/site-library/textshaping’\n",
      "During startup - Warning messages:\n",
      "1: Setting LC_TIME failed, using \"C\" \n",
      "2: Setting LC_MESSAGES failed, using \"C\" \n",
      "3: Setting LC_MONETARY failed, using \"C\" \n",
      "ERROR: dependencies ‘systemfonts’, ‘textshaping’ are not available for package ‘ragg’\n",
      "* removing ‘/opt/homebrew/lib/R/4.4/site-library/ragg’\n",
      "During startup - Warning messages:\n",
      "1: Setting LC_TIME failed, using \"C\" \n",
      "2: Setting LC_MESSAGES failed, using \"C\" \n",
      "3: Setting LC_MONETARY failed, using \"C\" \n",
      "ERROR: dependency ‘ragg’ is not available for package ‘tidyverse’\n",
      "* removing ‘/opt/homebrew/lib/R/4.4/site-library/tidyverse’\n"
     ]
    },
    {
     "data": {
      "text/plain": [
       "Installing package into ‘/opt/homebrew/lib/R/4.4/site-library’\n",
       "(as ‘lib’ is unspecified)\n",
       "also installing the dependencies ‘systemfonts’, ‘textshaping’, ‘ragg’\n",
       "\n",
       "trying URL 'https://mirror.las.iastate.edu/CRAN/src/contrib/systemfonts_1.2.1.tar.gz'\n",
       "Content type 'application/x-gzip' length 101773 bytes (99 KB)\n",
       "==================================================\n",
       "downloaded 99 KB\n",
       "\n",
       "trying URL 'https://mirror.las.iastate.edu/CRAN/src/contrib/textshaping_1.0.0.tar.gz'\n",
       "Content type 'application/x-gzip' length 75510 bytes (73 KB)\n",
       "==================================================\n",
       "downloaded 73 KB\n",
       "\n",
       "trying URL 'https://mirror.las.iastate.edu/CRAN/src/contrib/ragg_1.3.3.tar.gz'\n",
       "Content type 'application/x-gzip' length 428945 bytes (418 KB)\n",
       "==================================================\n",
       "downloaded 418 KB\n",
       "\n",
       "trying URL 'https://mirror.las.iastate.edu/CRAN/src/contrib/tidyverse_2.0.0.tar.gz'\n",
       "Content type 'application/x-gzip' length 704618 bytes (688 KB)\n",
       "==================================================\n",
       "downloaded 688 KB\n",
       "\n",
       "\n",
       "The downloaded source packages are in\n",
       "\t‘/private/var/folders/zz/2b8md6f924779tdhfsf8zvqm0000gn/T/RtmpqbW6TY/downloaded_packages’\n",
       "In addition: Warning messages:\n",
       "1: In install.packages(\"tidyverse\") :\n",
       "  installation of package ‘systemfonts’ had non-zero exit status\n",
       "2: In install.packages(\"tidyverse\") :\n",
       "  installation of package ‘textshaping’ had non-zero exit status\n",
       "3: In install.packages(\"tidyverse\") :\n",
       "  installation of package ‘ragg’ had non-zero exit status\n",
       "4: In install.packages(\"tidyverse\") :\n",
       "  installation of package ‘tidyverse’ had non-zero exit status\n"
      ]
     },
     "metadata": {},
     "output_type": "display_data"
    }
   ],
   "source": [
    "%%R\n",
    "\n",
    "install.packages(\"tidyverse\")\n"
   ]
  },
  {
   "cell_type": "code",
   "execution_count": 34,
   "metadata": {
    "scrolled": true
   },
   "outputs": [
    {
     "name": "stdout",
     "output_type": "stream",
     "text": [
      "Error in library(\"tidyverse\") : there is no package called ‘tidyverse’\n"
     ]
    },
    {
     "ename": "RInterpreterError",
     "evalue": "Failed to parse and evaluate line \"\\nlibrary('tidyverse')\\n\".\nR error message: 'Error in library(\"tidyverse\") : there is no package called ‘tidyverse’'",
     "output_type": "error",
     "traceback": [
      "\u001b[0;31m---------------------------------------------------------------------------\u001b[0m",
      "\u001b[0;31mRRuntimeError\u001b[0m                             Traceback (most recent call last)",
      "File \u001b[0;32m~/.pyenv/versions/3.12.7/lib/python3.12/site-packages/rpy2/ipython/rmagic.py:407\u001b[0m, in \u001b[0;36mRMagics.eval\u001b[0;34m(self, code)\u001b[0m\n\u001b[1;32m    406\u001b[0m     r_expr \u001b[38;5;241m=\u001b[39m ri\u001b[38;5;241m.\u001b[39mparse(code)\n\u001b[0;32m--> 407\u001b[0m     value, visible \u001b[38;5;241m=\u001b[39m \u001b[43mri\u001b[49m\u001b[38;5;241;43m.\u001b[39;49m\u001b[43mevalr_expr_with_visible\u001b[49m\u001b[43m(\u001b[49m\n\u001b[1;32m    408\u001b[0m \u001b[43m        \u001b[49m\u001b[43mr_expr\u001b[49m\n\u001b[1;32m    409\u001b[0m \u001b[43m    \u001b[49m\u001b[43m)\u001b[49m\n\u001b[1;32m    410\u001b[0m \u001b[38;5;28;01mexcept\u001b[39;00m (ri\u001b[38;5;241m.\u001b[39membedded\u001b[38;5;241m.\u001b[39mRRuntimeError, \u001b[38;5;167;01mValueError\u001b[39;00m) \u001b[38;5;28;01mas\u001b[39;00m exception:\n\u001b[1;32m    411\u001b[0m     \u001b[38;5;66;03m# Otherwise next return seems to have copy of error.\u001b[39;00m\n",
      "File \u001b[0;32m~/.pyenv/versions/3.12.7/lib/python3.12/site-packages/rpy2/rinterface.py:194\u001b[0m, in \u001b[0;36mevalr_expr_with_visible\u001b[0;34m(expr, envir)\u001b[0m\n\u001b[1;32m    193\u001b[0m \u001b[38;5;28;01mif\u001b[39;00m error_occured[\u001b[38;5;241m0\u001b[39m]:\n\u001b[0;32m--> 194\u001b[0m     \u001b[38;5;28;01mraise\u001b[39;00m embedded\u001b[38;5;241m.\u001b[39mRRuntimeError(_rinterface\u001b[38;5;241m.\u001b[39m_geterrmessage())\n\u001b[1;32m    195\u001b[0m res \u001b[38;5;241m=\u001b[39m conversion\u001b[38;5;241m.\u001b[39m_cdata_to_rinterface(r_res)\n",
      "\u001b[0;31mRRuntimeError\u001b[0m: Error in library(\"tidyverse\") : there is no package called ‘tidyverse’\n",
      "\nDuring handling of the above exception, another exception occurred:\n",
      "\u001b[0;31mRInterpreterError\u001b[0m                         Traceback (most recent call last)",
      "Cell \u001b[0;32mIn[34], line 1\u001b[0m\n\u001b[0;32m----> 1\u001b[0m \u001b[43mget_ipython\u001b[49m\u001b[43m(\u001b[49m\u001b[43m)\u001b[49m\u001b[38;5;241;43m.\u001b[39;49m\u001b[43mrun_cell_magic\u001b[49m\u001b[43m(\u001b[49m\u001b[38;5;124;43m'\u001b[39;49m\u001b[38;5;124;43mR\u001b[39;49m\u001b[38;5;124;43m'\u001b[39;49m\u001b[43m,\u001b[49m\u001b[43m \u001b[49m\u001b[38;5;124;43m'\u001b[39;49m\u001b[38;5;124;43m'\u001b[39;49m\u001b[43m,\u001b[49m\u001b[43m \u001b[49m\u001b[38;5;124;43m\"\u001b[39;49m\u001b[38;5;130;43;01m\\n\u001b[39;49;00m\u001b[38;5;124;43mlibrary(\u001b[39;49m\u001b[38;5;124;43m'\u001b[39;49m\u001b[38;5;124;43mtidyverse\u001b[39;49m\u001b[38;5;124;43m'\u001b[39;49m\u001b[38;5;124;43m)\u001b[39;49m\u001b[38;5;130;43;01m\\n\u001b[39;49;00m\u001b[38;5;124;43m\"\u001b[39;49m\u001b[43m)\u001b[49m\n",
      "File \u001b[0;32m~/.pyenv/versions/3.12.7/lib/python3.12/site-packages/IPython/core/interactiveshell.py:2541\u001b[0m, in \u001b[0;36mInteractiveShell.run_cell_magic\u001b[0;34m(self, magic_name, line, cell)\u001b[0m\n\u001b[1;32m   2539\u001b[0m \u001b[38;5;28;01mwith\u001b[39;00m \u001b[38;5;28mself\u001b[39m\u001b[38;5;241m.\u001b[39mbuiltin_trap:\n\u001b[1;32m   2540\u001b[0m     args \u001b[38;5;241m=\u001b[39m (magic_arg_s, cell)\n\u001b[0;32m-> 2541\u001b[0m     result \u001b[38;5;241m=\u001b[39m \u001b[43mfn\u001b[49m\u001b[43m(\u001b[49m\u001b[38;5;241;43m*\u001b[39;49m\u001b[43margs\u001b[49m\u001b[43m,\u001b[49m\u001b[43m \u001b[49m\u001b[38;5;241;43m*\u001b[39;49m\u001b[38;5;241;43m*\u001b[39;49m\u001b[43mkwargs\u001b[49m\u001b[43m)\u001b[49m\n\u001b[1;32m   2543\u001b[0m \u001b[38;5;66;03m# The code below prevents the output from being displayed\u001b[39;00m\n\u001b[1;32m   2544\u001b[0m \u001b[38;5;66;03m# when using magics with decorator @output_can_be_silenced\u001b[39;00m\n\u001b[1;32m   2545\u001b[0m \u001b[38;5;66;03m# when the last Python token in the expression is a ';'.\u001b[39;00m\n\u001b[1;32m   2546\u001b[0m \u001b[38;5;28;01mif\u001b[39;00m \u001b[38;5;28mgetattr\u001b[39m(fn, magic\u001b[38;5;241m.\u001b[39mMAGIC_OUTPUT_CAN_BE_SILENCED, \u001b[38;5;28;01mFalse\u001b[39;00m):\n",
      "File \u001b[0;32m~/.pyenv/versions/3.12.7/lib/python3.12/site-packages/rpy2/ipython/rmagic.py:984\u001b[0m, in \u001b[0;36mRMagics.R\u001b[0;34m(self, line, cell, local_ns)\u001b[0m\n\u001b[1;32m    982\u001b[0m     \u001b[38;5;28;01mif\u001b[39;00m \u001b[38;5;129;01mnot\u001b[39;00m e\u001b[38;5;241m.\u001b[39mstdout\u001b[38;5;241m.\u001b[39mendswith(e\u001b[38;5;241m.\u001b[39merr):\n\u001b[1;32m    983\u001b[0m         \u001b[38;5;28mprint\u001b[39m(e\u001b[38;5;241m.\u001b[39merr)\n\u001b[0;32m--> 984\u001b[0m     \u001b[38;5;28;01mraise\u001b[39;00m e\n\u001b[1;32m    985\u001b[0m \u001b[38;5;28;01mfinally\u001b[39;00m:\n\u001b[1;32m    986\u001b[0m     \u001b[38;5;28;01mif\u001b[39;00m \u001b[38;5;28mself\u001b[39m\u001b[38;5;241m.\u001b[39mdevice \u001b[38;5;129;01min\u001b[39;00m DEVICES_STATIC:\n",
      "File \u001b[0;32m~/.pyenv/versions/3.12.7/lib/python3.12/site-packages/rpy2/ipython/rmagic.py:949\u001b[0m, in \u001b[0;36mRMagics.R\u001b[0;34m(self, line, cell, local_ns)\u001b[0m\n\u001b[1;32m    947\u001b[0m         return_output \u001b[38;5;241m=\u001b[39m \u001b[38;5;28;01mFalse\u001b[39;00m\n\u001b[1;32m    948\u001b[0m \u001b[38;5;28;01melse\u001b[39;00m:\n\u001b[0;32m--> 949\u001b[0m     text_result, result, visible \u001b[38;5;241m=\u001b[39m \u001b[38;5;28;43mself\u001b[39;49m\u001b[38;5;241;43m.\u001b[39;49m\u001b[43meval\u001b[49m\u001b[43m(\u001b[49m\u001b[43mcode\u001b[49m\u001b[43m)\u001b[49m\n\u001b[1;32m    950\u001b[0m     text_output \u001b[38;5;241m+\u001b[39m\u001b[38;5;241m=\u001b[39m text_result\n\u001b[1;32m    951\u001b[0m     \u001b[38;5;28;01mif\u001b[39;00m visible:\n",
      "File \u001b[0;32m~/.pyenv/versions/3.12.7/lib/python3.12/site-packages/rpy2/ipython/rmagic.py:413\u001b[0m, in \u001b[0;36mRMagics.eval\u001b[0;34m(self, code)\u001b[0m\n\u001b[1;32m    410\u001b[0m \u001b[38;5;28;01mexcept\u001b[39;00m (ri\u001b[38;5;241m.\u001b[39membedded\u001b[38;5;241m.\u001b[39mRRuntimeError, \u001b[38;5;167;01mValueError\u001b[39;00m) \u001b[38;5;28;01mas\u001b[39;00m exception:\n\u001b[1;32m    411\u001b[0m     \u001b[38;5;66;03m# Otherwise next return seems to have copy of error.\u001b[39;00m\n\u001b[1;32m    412\u001b[0m     warning_or_other_msg \u001b[38;5;241m=\u001b[39m \u001b[38;5;28mself\u001b[39m\u001b[38;5;241m.\u001b[39mflush()\n\u001b[0;32m--> 413\u001b[0m     \u001b[38;5;28;01mraise\u001b[39;00m RInterpreterError(code, \u001b[38;5;28mstr\u001b[39m(exception),\n\u001b[1;32m    414\u001b[0m                             warning_or_other_msg)\n\u001b[1;32m    415\u001b[0m \u001b[38;5;28;01mfinally\u001b[39;00m:\n\u001b[1;32m    416\u001b[0m     ro\u001b[38;5;241m.\u001b[39m_print_deferred_warnings()\n",
      "\u001b[0;31mRInterpreterError\u001b[0m: Failed to parse and evaluate line \"\\nlibrary('tidyverse')\\n\".\nR error message: 'Error in library(\"tidyverse\") : there is no package called ‘tidyverse’'"
     ]
    }
   ],
   "source": [
    "%%R\n",
    "\n",
    "library('tidyverse')\n"
   ]
  },
  {
   "cell_type": "markdown",
   "metadata": {},
   "source": [
    "### Read data"
   ]
  },
  {
   "cell_type": "code",
   "execution_count": 41,
   "metadata": {},
   "outputs": [
    {
     "name": "stdout",
     "output_type": "stream",
     "text": [
      "Rows: 189 Columns: 12\n",
      "── Column specification ────────────────────────────────────────────────────────\n",
      "Delimiter: \",\"\n",
      "chr  (1): borough\n",
      "dbl (11): zip, population, pct_hispanic_or_latino, pct_asian, pct_american_i...\n",
      "\n",
      "ℹ Use `spec()` to retrieve the full column specification for this data.\n",
      "ℹ Specify the column types or set `show_col_types = FALSE` to quiet this message.\n"
     ]
    }
   ],
   "source": [
    "%%R\n",
    "\n",
    "# Read data\n",
    "df <- read_csv('housing_data.csv')"
   ]
  },
  {
   "cell_type": "code",
   "execution_count": 42,
   "metadata": {},
   "outputs": [
    {
     "name": "stdout",
     "output_type": "stream",
     "text": [
      "# A tibble: 189 × 12\n",
      "     zip population borough  pct_hispanic_or_latino pct_asian\n",
      "   <dbl>      <dbl> <chr>                     <dbl>     <dbl>\n",
      " 1 11368     112088 QUEENS                    76.5      11.6 \n",
      " 2 11385     107796 QUEENS                    45.0       6.46\n",
      " 3 11211     103123 BROOKLYN                  24.1       5.53\n",
      " 4 11208     101313 BROOKLYN                  40.6       6.01\n",
      " 5 10467     101255 BRONX                     52.1       5.68\n",
      " 6 11236     100844 BROOKLYN                   7.66      2.58\n",
      " 7 11226      99558 BROOKLYN                  16.4       3.07\n",
      " 8 11373      94437 QUEENS                    41.7      48.5 \n",
      " 9 11234      93534 BROOKLYN                  11.1       7.19\n",
      "10 11220      93170 BROOKLYN                  41.3      41.4 \n",
      "# ℹ 179 more rows\n",
      "# ℹ 7 more variables: pct_american_indian_and_alaska_native <dbl>,\n",
      "#   pct_black_or_african_american <dbl>, pct_white <dbl>,\n",
      "#   pct_native_hawaiian_and_other_pacific_islander <dbl>,\n",
      "#   pct_some_other_race <dbl>, pct_two_or_more_races <dbl>,\n",
      "#   pct_below_poverty <dbl>\n",
      "# ℹ Use `print(n = ...)` to see more rows\n"
     ]
    }
   ],
   "source": [
    "%%R\n",
    "\n",
    "df"
   ]
  },
  {
   "cell_type": "markdown",
   "metadata": {},
   "source": [
    "### R syntax - getting a column\n",
    "in R, the `$` lets you grab a column of a dataframe\n",
    "\n",
    "in Python this might be something like `df[\"pct_below_poverty\"]"
   ]
  },
  {
   "cell_type": "code",
   "execution_count": 43,
   "metadata": {},
   "outputs": [
    {
     "name": "stdout",
     "output_type": "stream",
     "text": [
      "  [1] 19.69 10.68 25.22 25.68 25.20 12.53 15.74 13.10  7.51 27.25 37.16 16.29\n",
      " [13] 14.27 28.50  9.13 34.96 34.92 34.92 19.92 34.02 10.81 21.34 13.64 37.77\n",
      " [25] 18.65 21.76 27.14 29.75 17.12 32.86 20.80 14.55 19.09 34.41 36.23 17.82\n",
      " [37] 37.14 27.36  8.43 18.51 15.60 15.60 16.71 16.71  7.09 19.42 31.16 10.97\n",
      " [49] 22.69 25.27 11.76  9.46 14.83 12.35 20.76 12.79  7.96  5.88 13.45 21.97\n",
      " [61] 26.48 35.61  6.01  6.01 17.62 23.54  7.40 16.98 17.25 11.89  9.20  9.24\n",
      " [73] 19.84  8.20  9.92 15.38 29.09 33.55 11.51 36.13 10.76 27.67  5.30 28.12\n",
      " [85] 12.80 21.04 12.24 12.07  5.21 12.73 13.69 11.31 12.32 18.21 38.14 13.26\n",
      " [97]  6.77  3.15 10.37 14.53 21.56  5.32 23.14  8.72 15.03 18.67  7.53 14.71\n",
      "[109]  8.18 12.63 43.12 16.36  9.33 10.18  9.27  7.39 36.77 11.51 10.82  6.63\n",
      "[121]  6.37 11.56 15.20 16.85 13.37  3.98 27.58 27.58  5.79  9.20 16.08  5.88\n",
      "[133]  4.36 10.73 14.33  9.68  3.17 25.47  8.03 23.01  8.07 14.11 20.15 10.14\n",
      "[145]  8.54 13.06 16.41  9.90 11.08 18.57  9.25  2.45 25.60 11.19  4.05  7.68\n",
      "[157] 25.16 11.24  7.16 10.13  7.64  7.64  6.03 16.88 10.68  6.49 12.50  6.06\n",
      "[169]  4.67 11.54 14.34 24.84 10.56 47.90  4.87 14.16  9.46  5.86  2.16  6.96\n",
      "[181]  9.25  2.81  2.33  7.01  7.11  1.32  3.36  0.00 72.77\n"
     ]
    }
   ],
   "source": [
    "%%R\n",
    "\n",
    "# Get a column\n",
    "df$pct_below_poverty"
   ]
  },
  {
   "cell_type": "markdown",
   "metadata": {},
   "source": [
    "### R syntax - the almighty pipe `%>%`\n",
    "\n",
    "The pipe (`%>%`) takes the output of the previous function and makes it the input to the next\n",
    "\n",
    "https://towardsdatascience.com/an-introduction-to-the-pipe-in-r-823090760d64\n"
   ]
  },
  {
   "cell_type": "code",
   "execution_count": 44,
   "metadata": {},
   "outputs": [
    {
     "name": "stdout",
     "output_type": "stream",
     "text": [
      "[1] 15.87868\n"
     ]
    }
   ],
   "source": [
    "%%R \n",
    "\n",
    "df$pct_below_poverty %>% \n",
    "    mean()\n",
    "\n",
    "# Equivalent to...\n",
    "mean(df$pct_below_poverty)"
   ]
  },
  {
   "cell_type": "code",
   "execution_count": 45,
   "metadata": {},
   "outputs": [
    {
     "name": "stdout",
     "output_type": "stream",
     "text": [
      "[1] 13.06\n"
     ]
    }
   ],
   "source": [
    "%%R\n",
    "\n",
    "df$pct_below_poverty %>% \n",
    "    median()"
   ]
  },
  {
   "cell_type": "code",
   "execution_count": 46,
   "metadata": {},
   "outputs": [
    {
     "name": "stdout",
     "output_type": "stream",
     "text": [
      "[1] 108.451\n"
     ]
    }
   ],
   "source": [
    "%%R \n",
    "\n",
    "df$pct_below_poverty %>% \n",
    "    var()"
   ]
  },
  {
   "cell_type": "code",
   "execution_count": 47,
   "metadata": {},
   "outputs": [
    {
     "name": "stdout",
     "output_type": "stream",
     "text": [
      "[1] 10.41398\n"
     ]
    }
   ],
   "source": [
    "%%R \n",
    "\n",
    "df$pct_below_poverty %>% \n",
    "    sd()"
   ]
  },
  {
   "cell_type": "code",
   "execution_count": 48,
   "metadata": {},
   "outputs": [
    {
     "name": "stdout",
     "output_type": "stream",
     "text": [
      "# A tibble: 5 × 4\n",
      "  borough        mean median standard_deviation\n",
      "  <chr>         <dbl>  <dbl>              <dbl>\n",
      "1 BRONX          26.7  28.7               11.6 \n",
      "2 BROOKLYN       18.6  17.2                8.20\n",
      "3 MANHATTAN      13.8  11.0                9.41\n",
      "4 QUEENS         12.0  10.7                9.06\n",
      "5 STATEN ISLAND  12.0   9.24               6.58\n"
     ]
    }
   ],
   "source": [
    "%%R \n",
    "\n",
    "df %>% \n",
    "    group_by(borough) %>%\n",
    "    summarize(\n",
    "        mean=mean(pct_below_poverty), \n",
    "        median=median(pct_below_poverty), \n",
    "        standard_deviation=sd(pct_below_poverty))"
   ]
  },
  {
   "cell_type": "markdown",
   "metadata": {},
   "source": [
    "**👉 Try It**\n",
    "Compare the summary statistics to the distributions in your previous assignment. What story do they tell? What stories do they obscure? Why was it important to plot the data in the case of this dataset? What did you gain from plotting the `pct_below_poverty` distribution in various different ways?\n",
    "\n",
    "> For boroughs such as Brookyn and Manhattan who have a mean percentage of poverty higher than the median, they might have higher poverty neighborhoods than one would observe if only looking at the distribution. Higher standard deviation actually indicates a more spreaded-out pattern. Plotting this variable distrubution in various different ways allow one to quickly pinpoint the median and where is mostly clustered. However, details are relatively obscure compared with the summary statistics. "
   ]
  },
  {
   "cell_type": "markdown",
   "metadata": {},
   "source": [
    "What was that one census tract in Queens with a really high pct_below_poverty"
   ]
  },
  {
   "cell_type": "code",
   "execution_count": 50,
   "metadata": {},
   "outputs": [
    {
     "name": "stdout",
     "output_type": "stream",
     "text": [
      "# A tibble: 1 × 3\n",
      "    zip borough pct_below_poverty\n",
      "  <dbl> <chr>               <dbl>\n",
      "1 11430 QUEENS               72.8\n"
     ]
    }
   ],
   "source": [
    "%%R\n",
    "\n",
    "df %>%\n",
    "    filter(borough == 'QUEENS') %>%\n",
    "    select(zip, borough, pct_below_poverty) %>%\n",
    "    filter(pct_below_poverty > 50) %>%\n",
    "    arrange(desc(pct_below_poverty)) %>%\n",
    "    print ()\n"
   ]
  },
  {
   "cell_type": "code",
   "execution_count": null,
   "metadata": {},
   "outputs": [],
   "source": []
  }
 ],
 "metadata": {
  "kernelspec": {
   "display_name": "Python 3 (ipykernel)",
   "language": "python",
   "name": "python3"
  },
  "language_info": {
   "codemirror_mode": {
    "name": "ipython",
    "version": 3
   },
   "file_extension": ".py",
   "mimetype": "text/x-python",
   "name": "python",
   "nbconvert_exporter": "python",
   "pygments_lexer": "ipython3",
   "version": "3.12.7"
  }
 },
 "nbformat": 4,
 "nbformat_minor": 4
}
